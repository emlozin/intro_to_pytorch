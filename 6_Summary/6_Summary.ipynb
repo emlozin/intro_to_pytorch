{
 "cells": [
  {
   "cell_type": "markdown",
   "metadata": {},
   "source": [
    "# 6. Summary\n",
    "\n",
    "During our workshop we learned a lot about PyTorch:\n",
    "\n",
    "1. PyTorch universum\n",
    "2. Tensors\n",
    "3. Neural networks module\n",
    "4. Training and evaluation in PyTorch\n",
    "5. Saving and loading custom models\n",
    "6. Working with datasets"
   ]
  },
  {
   "cell_type": "markdown",
   "metadata": {},
   "source": [
    "#### We want to ask you last questions...\n",
    "\n",
    "Please fill in the survey and tell us what you liked and what can we do better next time?"
   ]
  },
  {
   "cell_type": "code",
   "execution_count": null,
   "metadata": {},
   "outputs": [],
   "source": [
    "expectations = '?'\n",
    "reality = '?'\n",
    "\n",
    "assert expectations == reality"
   ]
  }
 ],
 "metadata": {
  "kernelspec": {
   "display_name": "intro_to_pytorch",
   "language": "python",
   "name": "intro_to_pytorch"
  },
  "language_info": {
   "codemirror_mode": {
    "name": "ipython",
    "version": 3
   },
   "file_extension": ".py",
   "mimetype": "text/x-python",
   "name": "python",
   "nbconvert_exporter": "python",
   "pygments_lexer": "ipython3",
   "version": "3.7.9"
  }
 },
 "nbformat": 4,
 "nbformat_minor": 4
}
