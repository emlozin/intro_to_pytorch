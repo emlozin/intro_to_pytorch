{
 "cells": [
  {
   "cell_type": "markdown",
   "metadata": {},
   "source": [
    "# 1. Introduction to PyTorch\n",
    "\n",
    "Welcome! In this workshop you will get to know PyTorch better and learn following concepts:\n",
    "\n",
    "1. PyTorch universum\n",
    "2. Tensors\n",
    "3. Neural networks module\n",
    "4. Training \n",
    "5. Evaluation\n",
    "6. Saving and loading custom models\n",
    "7. Working with datasets\n",
    "8. Transfer learning"
   ]
  },
  {
   "cell_type": "markdown",
   "metadata": {},
   "source": [
    "#### But first, lets get to know each other..."
   ]
  },
  {
   "cell_type": "code",
   "execution_count": null,
   "metadata": {},
   "outputs": [],
   "source": [
    "your_name = '?'\n",
    "\n",
    "print(f\"Hello, my name is {your_name}!\")"
   ]
  },
  {
   "cell_type": "markdown",
   "metadata": {},
   "source": [
    "### Workshop goals:\n",
    "\n",
    "At the end of the workshop, you will be able to train and test network classifying handwritten digits images. Expected goal is shown below."
   ]
  },
  {
   "cell_type": "code",
   "execution_count": null,
   "metadata": {},
   "outputs": [],
   "source": [
    "from intro_to_pytorch import mnist\n",
    "\n",
    "import seaborn as sns\n",
    "sns.set(style=\"darkgrid\")\n",
    "\n",
    "%matplotlib inline\n",
    "\n",
    "# default show_size = 64, no_cols=8\n",
    "mnist.test_network()"
   ]
  },
  {
   "cell_type": "markdown",
   "metadata": {},
   "source": [
    "No time to waste, let's start..."
   ]
  }
 ],
 "metadata": {
  "kernelspec": {
   "display_name": "intro_to_pytorch",
   "language": "python",
   "name": "intro_to_pytorch"
  },
  "language_info": {
   "codemirror_mode": {
    "name": "ipython",
    "version": 3
   },
   "file_extension": ".py",
   "mimetype": "text/x-python",
   "name": "python",
   "nbconvert_exporter": "python",
   "pygments_lexer": "ipython3",
   "version": "3.9.1"
  }
 },
 "nbformat": 4,
 "nbformat_minor": 4
}
