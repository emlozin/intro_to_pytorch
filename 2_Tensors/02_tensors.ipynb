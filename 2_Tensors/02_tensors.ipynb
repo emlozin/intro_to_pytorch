{
 "cells": [
  {
   "cell_type": "code",
   "execution_count": 1,
   "metadata": {},
   "outputs": [
    {
     "data": {
      "text/html": [
       "<style>\n",
       "th {\n",
       "  font-size: 24px\n",
       "}\n",
       "td {\n",
       "  font-size: 16px\n",
       "}\n",
       "</style>\n"
      ],
      "text/plain": [
       "<IPython.core.display.HTML object>"
      ]
     },
     "metadata": {},
     "output_type": "display_data"
    }
   ],
   "source": [
    "%%HTML\n",
    "<style>\n",
    "th {\n",
    "  font-size: 24px\n",
    "}\n",
    "td {\n",
    "  font-size: 16px\n",
    "}\n",
    "</style>"
   ]
  },
  {
   "cell_type": "code",
   "execution_count": 23,
   "metadata": {},
   "outputs": [],
   "source": [
    "import torch\n",
    "from matplotlib import pyplot as plt\n",
    "import numpy as np\n",
    "import seaborn as sns\n",
    "sns.set_theme(style=\"ticks\")"
   ]
  },
  {
   "cell_type": "markdown",
   "metadata": {},
   "source": [
    "# It starts with a tensor\n",
    "\n",
    "## Core concepts of this section\n",
    "\n",
    "1. A `Tensor` is a `View` onto a `Storage`\n",
    "2. `contiguous` memory layout enables fast computations\n",
    "3. `broadcasting`: expand Tensor dimensions as needed\n",
    "\n",
    "\n",
    "## Fundamentals\n",
    "### Contrast to python list\n",
    "\n",
    "![in pytorch, a tensor refers to numbers in memory that are all next to each other](img/Fig23.png \"src: https://www.manning.com/books/deep-learning-with-pytorch\")\n",
    "\n",
    "    \n",
    "| entity | plain python | pytorch| \n",
    "|:-------|:------------:|:------:|\n",
    "| numbers | **boxed**: objects with reference counting | 32 bit numbers| \n",
    "| lists | sequential (1dim) collections of pointers to python objects | **adjacent entries in memory**: optimized for computational operations | \n",
    "| interpreter | slow list and math operations | fast | \n"
   ]
  },
  {
   "cell_type": "markdown",
   "metadata": {},
   "source": [
    "### Instantiation\n",
    "\n",
    "Default type at instantiation is torch.float32"
   ]
  },
  {
   "cell_type": "code",
   "execution_count": 3,
   "metadata": {},
   "outputs": [
    {
     "name": "stdout",
     "output_type": "stream",
     "text": [
      "tensor([1., 1., 1.]) torch.float32\n",
      "tensor([[0, 0],\n",
      "        [0, 0],\n",
      "        [0, 0]], dtype=torch.int16)\n",
      "tensor([1., 2., 3.], dtype=torch.float64)\n"
     ]
    }
   ],
   "source": [
    "a = torch.ones(3); print(a, a.dtype)\n",
    "b = torch.zeros((3, 2)).short(); print(b)\n",
    "c = torch.tensor([1.,2.,3.], dtype=torch.double); print(c)"
   ]
  },
  {
   "cell_type": "code",
   "execution_count": 4,
   "metadata": {},
   "outputs": [
    {
     "data": {
      "text/plain": [
       "\u001b[0;31mDocstring:\u001b[0m\n",
       "tensor(data, dtype=None, device=None, requires_grad=False, pin_memory=False) -> Tensor\n",
       "\n",
       "Constructs a tensor with :attr:`data`.\n",
       "\n",
       ".. warning::\n",
       "\n",
       "    :func:`torch.tensor` always copies :attr:`data`. If you have a Tensor\n",
       "    ``data`` and want to avoid a copy, use :func:`torch.Tensor.requires_grad_`\n",
       "    or :func:`torch.Tensor.detach`.\n",
       "    If you have a NumPy ``ndarray`` and want to avoid a copy, use\n",
       "    :func:`torch.as_tensor`.\n",
       "\n",
       ".. warning::\n",
       "\n",
       "    When data is a tensor `x`, :func:`torch.tensor` reads out 'the data' from whatever it is passed,\n",
       "    and constructs a leaf variable. Therefore ``torch.tensor(x)`` is equivalent to ``x.clone().detach()``\n",
       "    and ``torch.tensor(x, requires_grad=True)`` is equivalent to ``x.clone().detach().requires_grad_(True)``.\n",
       "    The equivalents using ``clone()`` and ``detach()`` are recommended.\n",
       "\n",
       "Args:\n",
       "    data (array_like): Initial data for the tensor. Can be a list, tuple,\n",
       "        NumPy ``ndarray``, scalar, and other types.\n",
       "    dtype (:class:`torch.dtype`, optional): the desired data type of returned tensor.\n",
       "        Default: if ``None``, infers data type from :attr:`data`.\n",
       "    device (:class:`torch.device`, optional): the desired device of returned tensor.\n",
       "        Default: if ``None``, uses the current device for the default tensor type\n",
       "        (see :func:`torch.set_default_tensor_type`). :attr:`device` will be the CPU\n",
       "        for CPU tensor types and the current CUDA device for CUDA tensor types.\n",
       "    requires_grad (bool, optional): If autograd should record operations on the\n",
       "        returned tensor. Default: ``False``.\n",
       "    pin_memory (bool, optional): If set, returned tensor would be allocated in\n",
       "        the pinned memory. Works only for CPU tensors. Default: ``False``.\n",
       "\n",
       "\n",
       "Example::\n",
       "\n",
       "    >>> torch.tensor([[0.1, 1.2], [2.2, 3.1], [4.9, 5.2]])\n",
       "    tensor([[ 0.1000,  1.2000],\n",
       "            [ 2.2000,  3.1000],\n",
       "            [ 4.9000,  5.2000]])\n",
       "\n",
       "    >>> torch.tensor([0, 1])  # Type inference on data\n",
       "    tensor([ 0,  1])\n",
       "\n",
       "    >>> torch.tensor([[0.11111, 0.222222, 0.3333333]],\n",
       "                     dtype=torch.float64,\n",
       "                     device=torch.device('cuda:0'))  # creates a torch.cuda.DoubleTensor\n",
       "    tensor([[ 0.1111,  0.2222,  0.3333]], dtype=torch.float64, device='cuda:0')\n",
       "\n",
       "    >>> torch.tensor(3.14159)  # Create a scalar (zero-dimensional tensor)\n",
       "    tensor(3.1416)\n",
       "\n",
       "    >>> torch.tensor([])  # Create an empty tensor (of size (0,))\n",
       "    tensor([])\n",
       "\u001b[0;31mType:\u001b[0m      builtin_function_or_method\n"
      ]
     },
     "metadata": {},
     "output_type": "display_data"
    }
   ],
   "source": [
    "torch.tensor??"
   ]
  },
  {
   "cell_type": "markdown",
   "metadata": {},
   "source": [
    "### Tensors and storages\n",
    "\n",
    "* the `torch.Storage` is where the numbers actually are\n",
    "* A `torch.Tensor` is a view onto a *torch.Storage*\n"
   ]
  },
  {
   "cell_type": "code",
   "execution_count": 5,
   "metadata": {},
   "outputs": [],
   "source": [
    "a = torch.tensor([1,2,3,4,5,6])\n",
    "b = a.reshape((3,2))\n",
    "assert id(a.storage()) == id(b.storage())"
   ]
  },
  {
   "cell_type": "markdown",
   "metadata": {},
   "source": [
    "* layout of the storage is always *1D*\n",
    "* hence, changing the value in the storage changes the values of all views (i.e. torch.Tensor) that refer to the same storage \n",
    "\n",
    "![Views referring to same storage](img/Fig24.png)"
   ]
  },
  {
   "cell_type": "markdown",
   "metadata": {},
   "source": [
    "### Size, storage offset, and strides\n",
    "\n",
    "![Meaning of size, offset and stride](img/Fig25.png)\n",
    "\n",
    "* A Tensor is a view on a storage that is defined by its\n",
    "  * **size:** `t.size()` / `t.shape`\n",
    "  * **storage offset:** `t.stoage_offset()`\n",
    "  * **stride:** `t.stride()`\n",
    "* the **stride** informs how many elements in the storage one needs to move to get to the next value in that dimension\n",
    "* to get `t[i,j]`, get `storage_offset + i * stride[0] + j * stride[1]` of storage\n",
    "* this makes some tensor operations very cheap, because a new tensor has the same storage but different values for size, offset and stride"
   ]
  },
  {
   "cell_type": "code",
   "execution_count": 6,
   "metadata": {},
   "outputs": [
    {
     "name": "stdout",
     "output_type": "stream",
     "text": [
      "a.size: torch.Size([2, 3])\n",
      "a.storage_offset: 0\n",
      "a.stride: (3, 1)\n"
     ]
    }
   ],
   "source": [
    "a = torch.tensor([[1,2,3], [4,5,6]])\n",
    "print(f\"a.size: {a.size()}\")\n",
    "print(f\"a.storage_offset: {a.storage_offset()}\")\n",
    "print(f\"a.stride: {a.stride()}\")"
   ]
  },
  {
   "cell_type": "code",
   "execution_count": 7,
   "metadata": {},
   "outputs": [
    {
     "name": "stdout",
     "output_type": "stream",
     "text": [
      "b.size: torch.Size([3])\n",
      "b.storage_offset: 3\n",
      "b.stride: (1,)\n"
     ]
    }
   ],
   "source": [
    "b = a[1]\n",
    "print(f\"b.size: {b.size()}\")\n",
    "print(f\"b.storage_offset: {b.storage_offset()}\")\n",
    "print(f\"b.stride: {b.stride()}\")"
   ]
  },
  {
   "cell_type": "markdown",
   "metadata": {},
   "source": [
    "#### Transposing a tensor\n",
    "\n",
    "* the transpose just swaps entries in size and stride\n",
    "\n",
    "![Transpose explained](img/Fig26.png)\n"
   ]
  },
  {
   "cell_type": "markdown",
   "metadata": {},
   "source": [
    "#### Contiguous\n",
    "\n",
    "* A tensor whose values are laid out in the storage starting from the right most dimension onward is **contiguous**\n",
    "  * e.g. 2D tensor:\n",
    "    * `t.size() # torch.Size([#rows, #columns])`\n",
    "    * moving along rows (i.e. fix row, go from one column to the next) is equivalent to going through storage one by one\n",
    "* this data locality improves performance"
   ]
  },
  {
   "cell_type": "code",
   "execution_count": 8,
   "metadata": {},
   "outputs": [],
   "source": [
    "a = torch.tensor([[1,2,3], [4,5,6]])\n",
    "assert a.is_contiguous()"
   ]
  },
  {
   "cell_type": "code",
   "execution_count": 9,
   "metadata": {},
   "outputs": [],
   "source": [
    "b = a.t()\n",
    "assert not b.is_contiguous()"
   ]
  },
  {
   "cell_type": "code",
   "execution_count": 10,
   "metadata": {},
   "outputs": [],
   "source": [
    "c = b.contiguous()\n",
    "assert c.is_contiguous()"
   ]
  },
  {
   "cell_type": "markdown",
   "metadata": {},
   "source": [
    "### Numeric types\n",
    "\n",
    "* `torch.floatXX`: 32: float, 64: double, 16: half\n",
    "* `torch.intXX`: 8, 16, 32, 64\n",
    "* `torch.uint8`: torch.ByteTensor\n",
    "* `torch.Tensor`: equivalent to torch.FloatTensor\n"
   ]
  },
  {
   "cell_type": "markdown",
   "metadata": {},
   "source": [
    "### Indexing\n",
    "\n",
    "* similar to [numpy indexing](https://numpy.org/devdocs/user/basics.indexing.html), e.g. `points[1:, 0]`: all but first rows, first column"
   ]
  },
  {
   "cell_type": "markdown",
   "metadata": {},
   "source": [
    "### Exercises\n",
    "\n",
    "1. Create a tensor a from list(range(9)) . Predict then check what the size, offset, and strides are.\n",
    "2. Create a tensor b = a.view(3, 3) . What is the value of b[1,1] ?\n",
    "3. Create a tensor c = b[1:,1:] . Predict then check what the size, offset, and strides are."
   ]
  },
  {
   "cell_type": "markdown",
   "metadata": {},
   "source": [
    "## Tensor features"
   ]
  },
  {
   "cell_type": "code",
   "execution_count": 11,
   "metadata": {},
   "outputs": [],
   "source": [
    "t = torch.tensor([1,2,3,4,5,6])"
   ]
  },
  {
   "cell_type": "markdown",
   "metadata": {},
   "source": [
    "### Numpy interoperability"
   ]
  },
  {
   "cell_type": "code",
   "execution_count": 12,
   "metadata": {},
   "outputs": [],
   "source": [
    "t_np = t.numpy()\n",
    "t = torch.from_numpy(t_np)"
   ]
  },
  {
   "cell_type": "markdown",
   "metadata": {},
   "source": [
    "### Serialization\n",
    "\n",
    "* use `torch.save(t, \"path_to_file.t\")` and `torch.load(\"path_to_file.t\")`\n",
    "* alternatively, can use in combination with `hdf5` file format (library: h5py)\n",
    "\n",
    "### GPU\n",
    "\n",
    "* pytorch makes it very easy to use one or several GPUs, using the `torch.device`"
   ]
  },
  {
   "cell_type": "code",
   "execution_count": 13,
   "metadata": {},
   "outputs": [
    {
     "data": {
      "text/plain": [
       "device(type='cuda', index=1)"
      ]
     },
     "execution_count": 13,
     "metadata": {},
     "output_type": "execute_result"
    }
   ],
   "source": [
    "torch.device(\"cpu\") # use cpu by default\n",
    "torch.device(\"cuda\") # GPU\n",
    "torch.device(\"cuda:0\") # index multiple GPUs #0 -> default: 0\n",
    "torch.device(\"cuda:1\") # use GPU #1"
   ]
  },
  {
   "cell_type": "markdown",
   "metadata": {},
   "source": [
    "* delegate a tensor to a device using"
   ]
  },
  {
   "cell_type": "code",
   "execution_count": 14,
   "metadata": {},
   "outputs": [
    {
     "name": "stdout",
     "output_type": "stream",
     "text": [
      "tensor([1, 2, 3, 4, 5, 6])\n",
      "tensor([1, 2, 3, 4, 5, 6])\n",
      "tensor([1, 2, 3, 4, 5, 6], device='cuda:0')\n",
      "tensor([1, 2, 3, 4, 5, 6], device='cuda:0')\n"
     ]
    }
   ],
   "source": [
    "print(t.to(torch.device(\"cpu\")))\n",
    "print(t.cpu())\n",
    "\n",
    "if torch.cuda.is_available():\n",
    "    print(t.cuda())\n",
    "    print(t.cuda(0))"
   ]
  },
  {
   "cell_type": "markdown",
   "metadata": {},
   "source": [
    "### Tensor API\n",
    "\n",
    "For pytorch, there exists a ton of ops... whatever you would like to do, it's probably already implemented in a performant manner.\n",
    "\n",
    "**Pytorch convention:** a mathemtical operation often has an in-place equivalent referenced by using the suffix `_`. E.g. `t.cos()` and `t.cos_()`\n",
    "\n",
    "Some examples:"
   ]
  },
  {
   "cell_type": "code",
   "execution_count": 15,
   "metadata": {},
   "outputs": [],
   "source": [
    "t = torch.tensor(range(10), dtype=torch.float) "
   ]
  },
  {
   "cell_type": "code",
   "execution_count": 16,
   "metadata": {},
   "outputs": [
    {
     "data": {
      "text/plain": [
       "tensor([ 1.0000,  0.5403, -0.4161, -0.9900, -0.6536,  0.2837,  0.9602,  0.7539,\n",
       "        -0.1455, -0.9111])"
      ]
     },
     "execution_count": 16,
     "metadata": {},
     "output_type": "execute_result"
    }
   ],
   "source": [
    "t.cos()"
   ]
  },
  {
   "cell_type": "code",
   "execution_count": 17,
   "metadata": {},
   "outputs": [
    {
     "data": {
      "text/plain": [
       "tensor([  -inf, 0.0000, 0.6931, 1.0986, 1.3863, 1.6094, 1.7918, 1.9459, 2.0794,\n",
       "        2.1972])"
      ]
     },
     "execution_count": 17,
     "metadata": {},
     "output_type": "execute_result"
    }
   ],
   "source": [
    "t.log()"
   ]
  },
  {
   "cell_type": "code",
   "execution_count": 18,
   "metadata": {},
   "outputs": [
    {
     "data": {
      "text/plain": [
       "tensor([  -inf, 0.0000, 0.6931, 1.0986, 1.3863, 1.6094, 1.7918, 1.9459, 2.0794,\n",
       "        2.1972])"
      ]
     },
     "execution_count": 18,
     "metadata": {},
     "output_type": "execute_result"
    }
   ],
   "source": [
    "t.log_(); t # operates in-place/ mutates tensor"
   ]
  },
  {
   "cell_type": "markdown",
   "metadata": {},
   "source": [
    "### Exercise\n",
    "\n",
    "1. Caclulate the mean squared error between predictions and target values: $\\rm mse = \\frac{1}{N}\\sum_i^N (p_i - t_i)^2$\n"
   ]
  },
  {
   "cell_type": "code",
   "execution_count": 19,
   "metadata": {},
   "outputs": [
    {
     "ename": "AssertionError",
     "evalue": "With rtol=0.0001 and atol=1e-05, found 100 element(s) (out of 100) whose difference(s) exceeded the margin of error (including 0 nan comparisons). The greatest difference was 0.1611199975013733 (0.0 vs. 0.1611199975013733), which occurred at index 99.",
     "output_type": "error",
     "traceback": [
      "\u001b[0;31m---------------------------------------------------------------------------\u001b[0m",
      "\u001b[0;31mAssertionError\u001b[0m                            Traceback (most recent call last)",
      "\u001b[0;32m<ipython-input-19-ae22720f59ac>\u001b[0m in \u001b[0;36m<module>\u001b[0;34m\u001b[0m\n\u001b[1;32m      8\u001b[0m         0.4178, 0.2335, 0.5490, 0.4379, 0.3335, 0.8449, 0.6327, 0.1062, 0.4313, 0.7856, 0.6156, 0.3859, 0.5551, 0.4448, 0.3231, 0.3505, 0.3295, 0.8727, 0.9072, 0.9495, 0.6936, 0.5648, 0.0132, 0.2811, 0.5219, 0.4193, 0.8747, 0.7140, 0.6307, 0.0449, 0.4598, 0.0337, 0.3839, 0.7451, 0.2710, 0.3802, 0.8890, 0.8482, 0.6723, 0.7480, 0.1293, 0.6862, 0.8104, 0.3573, 0.7695, 0.1230, 0.3649, 0.8067, 0.2198, 0.3240, 0.1938, 0.8909, 0.1115, 0.4997, 0.4708])\n\u001b[1;32m      9\u001b[0m \u001b[0;34m\u001b[0m\u001b[0m\n\u001b[0;32m---> 10\u001b[0;31m \u001b[0mtorch\u001b[0m\u001b[0;34m.\u001b[0m\u001b[0mtesting\u001b[0m\u001b[0;34m.\u001b[0m\u001b[0massert_allclose\u001b[0m\u001b[0;34m(\u001b[0m\u001b[0mmse\u001b[0m\u001b[0;34m(\u001b[0m\u001b[0mx\u001b[0m\u001b[0;34m,\u001b[0m \u001b[0my\u001b[0m\u001b[0;34m)\u001b[0m\u001b[0;34m,\u001b[0m \u001b[0;36m0.16112\u001b[0m\u001b[0;34m)\u001b[0m\u001b[0;34m\u001b[0m\u001b[0;34m\u001b[0m\u001b[0m\n\u001b[0m\u001b[1;32m     11\u001b[0m \u001b[0mtorch\u001b[0m\u001b[0;34m.\u001b[0m\u001b[0mtesting\u001b[0m\u001b[0;34m.\u001b[0m\u001b[0massert_allclose\u001b[0m\u001b[0;34m(\u001b[0m\u001b[0mmse\u001b[0m\u001b[0;34m(\u001b[0m\u001b[0mtorch\u001b[0m\u001b[0;34m.\u001b[0m\u001b[0mones\u001b[0m\u001b[0;34m(\u001b[0m\u001b[0;36m3\u001b[0m\u001b[0;34m)\u001b[0m\u001b[0;34m,\u001b[0m \u001b[0mtorch\u001b[0m\u001b[0;34m.\u001b[0m\u001b[0mones\u001b[0m\u001b[0;34m(\u001b[0m\u001b[0;36m3\u001b[0m\u001b[0;34m)\u001b[0m\u001b[0;34m)\u001b[0m\u001b[0;34m,\u001b[0m \u001b[0;36m0\u001b[0m\u001b[0;34m)\u001b[0m\u001b[0;34m\u001b[0m\u001b[0;34m\u001b[0m\u001b[0m\n",
      "\u001b[0;32m~/miniconda3/lib/python3.7/site-packages/torch/testing/__init__.py\u001b[0m in \u001b[0;36massert_allclose\u001b[0;34m(actual, expected, rtol, atol, equal_nan, msg)\u001b[0m\n\u001b[1;32m    221\u001b[0m         \u001b[0mmsg\u001b[0m \u001b[0;34m=\u001b[0m \u001b[0mdebug_msg\u001b[0m\u001b[0;34m\u001b[0m\u001b[0;34m\u001b[0m\u001b[0m\n\u001b[1;32m    222\u001b[0m \u001b[0;34m\u001b[0m\u001b[0m\n\u001b[0;32m--> 223\u001b[0;31m     \u001b[0;32mraise\u001b[0m \u001b[0mAssertionError\u001b[0m\u001b[0;34m(\u001b[0m\u001b[0mmsg\u001b[0m\u001b[0;34m)\u001b[0m\u001b[0;34m\u001b[0m\u001b[0;34m\u001b[0m\u001b[0m\n\u001b[0m\u001b[1;32m    224\u001b[0m \u001b[0;34m\u001b[0m\u001b[0m\n\u001b[1;32m    225\u001b[0m \u001b[0;32mdef\u001b[0m \u001b[0mmake_non_contiguous\u001b[0m\u001b[0;34m(\u001b[0m\u001b[0mtensor\u001b[0m\u001b[0;34m:\u001b[0m \u001b[0mtorch\u001b[0m\u001b[0;34m.\u001b[0m\u001b[0mTensor\u001b[0m\u001b[0;34m)\u001b[0m \u001b[0;34m->\u001b[0m \u001b[0mtorch\u001b[0m\u001b[0;34m.\u001b[0m\u001b[0mTensor\u001b[0m\u001b[0;34m:\u001b[0m\u001b[0;34m\u001b[0m\u001b[0;34m\u001b[0m\u001b[0m\n",
      "\u001b[0;31mAssertionError\u001b[0m: With rtol=0.0001 and atol=1e-05, found 100 element(s) (out of 100) whose difference(s) exceeded the margin of error (including 0 nan comparisons). The greatest difference was 0.1611199975013733 (0.0 vs. 0.1611199975013733), which occurred at index 99."
     ]
    }
   ],
   "source": [
    "def mse(p, t):\n",
    "    # TODO: implement\n",
    "    return torch.zeros(len(p)) \n",
    "\n",
    "x = torch.tensor([0.8878, 0.3297, 0.5110, 0.5384, 0.2123, 0.3426, 0.7011, 0.8208, 0.8864, 0.6434, 0.1740, 0.0737, 0.8329, 0.0571, 0.6244, 0.9390, 0.5501, 0.6998, 0.7668, 0.5981, 0.1187, 0.6488, 0.3909, 0.8849, 0.3510, 0.7472, 0.4878, 0.2781, 0.5326, 0.1480, 0.4136, 0.4267, 0.6989, 0.3887, 0.5068, 0.5511, 0.5643, 0.0901, 0.1359, 0.5701, 0.4774, 0.9935, 0.1502, 0.7608, 0.4538, 0.4217, 0.1825, 0.9382, 0.8646, 0.1383, 0.0363, 0.2364, 0.1937, 0.2695, 0.4807, 0.7768, 0.2784, 0.3547, 0.0922, 0.5994, 0.0868, 0.0460, 0.0812,\n",
    "        0.0319, 0.2429, 0.3504, 0.6014, 0.9268, 0.2222, 0.5592, 0.2112, 0.3517, 0.1994, 0.3877, 0.8518, 0.3747, 0.9385, 0.5225, 0.9855, 0.7657, 0.5585, 0.0929, 0.5815, 0.0804, 0.9209, 0.8802, 0.6289, 0.9143, 0.0038, 0.7857, 0.9591, 0.8305, 0.1844, 0.0162, 0.1324, 0.0526, 0.2213, 0.6377, 0.6446, 0.6945])\n",
    "y = torch.tensor([0.2142, 0.7458, 0.7008, 0.2043, 0.1460, 0.2145, 0.7116, 0.6624, 0.8765, 0.2938, 0.4653, 0.1229, 0.8056, 0.2956, 0.4171, 0.0459, 0.3799, 0.5624, 0.4551, 0.1322, 0.7540, 0.0425, 0.3713, 0.4406, 0.8243, 0.5511, 0.1352, 0.7495, 0.0901, 0.2131, 0.7758, 0.9060, 0.7875, 0.5118, 0.5368, 0.3445, 0.8501, 0.2982, 0.2606, 0.4571, 0.8108, 0.7400, 0.2336, 0.6150, 0.9143,\n",
    "        0.4178, 0.2335, 0.5490, 0.4379, 0.3335, 0.8449, 0.6327, 0.1062, 0.4313, 0.7856, 0.6156, 0.3859, 0.5551, 0.4448, 0.3231, 0.3505, 0.3295, 0.8727, 0.9072, 0.9495, 0.6936, 0.5648, 0.0132, 0.2811, 0.5219, 0.4193, 0.8747, 0.7140, 0.6307, 0.0449, 0.4598, 0.0337, 0.3839, 0.7451, 0.2710, 0.3802, 0.8890, 0.8482, 0.6723, 0.7480, 0.1293, 0.6862, 0.8104, 0.3573, 0.7695, 0.1230, 0.3649, 0.8067, 0.2198, 0.3240, 0.1938, 0.8909, 0.1115, 0.4997, 0.4708])\n",
    "\n",
    "torch.testing.assert_allclose(mse(x, y), 0.16112)\n",
    "torch.testing.assert_allclose(mse(torch.ones(3), torch.ones(3)), 0)"
   ]
  },
  {
   "cell_type": "markdown",
   "metadata": {},
   "source": [
    "## Boardcasting"
   ]
  },
  {
   "cell_type": "markdown",
   "metadata": {},
   "source": [
    "## Auto grad\n",
    "### Key Concepts\n",
    "\n",
    "1. `requires_grad` \n",
    "2. `t.backward()` and `param.grad`\n",
    "3. `param.detach` and `torch.no_grad()` \n",
    "4. zeroing the gradient\n",
    "    "
   ]
  },
  {
   "cell_type": "code",
   "execution_count": 28,
   "metadata": {},
   "outputs": [
    {
     "data": {
      "image/png": "[encoded data removed]",
      "text/plain": [
       "<Figure size 504x504 with 1 Axes>"
      ]
     },
     "metadata": {},
     "output_type": "display_data"
    }
   ],
   "source": [
    "def sop(x, a, b, c):\n",
    "    return a*x**2 + b*x + c\n",
    "\n",
    "def show_sop(x, y):\n",
    "    fig, ax = plt.subplots(1, figsize=(7,7))\n",
    "    ax.plot(x, y)\n",
    "\n",
    "a, b, c = 0.5, 1.3, 2.8\n",
    "\n",
    "x = np.linspace(-10, 10, 100)\n",
    "\n",
    "show_sop(x, sop(x, a, b, c))"
   ]
  },
  {
   "cell_type": "code",
   "execution_count": 37,
   "metadata": {},
   "outputs": [
    {
     "name": "stdout",
     "output_type": "stream",
     "text": [
      "tensor([0.])\n"
     ]
    }
   ],
   "source": [
    "x = torch.tensor([-1.3], requires_grad=True)\n",
    "sop(x, a, b, c).backward()\n",
    "\n",
    "assert x.grad == 2*a*x + b\n",
    "\n",
    "print(x.grad)"
   ]
  },
  {
   "cell_type": "markdown",
   "metadata": {},
   "source": [
    "### Exercise: Least square fit for a linear function"
   ]
  },
  {
   "cell_type": "code",
   "execution_count": 20,
   "metadata": {},
   "outputs": [
    {
     "data": {
      "image/png": "[encoded data removed]",
      "text/plain": [
       "<Figure size 504x504 with 1 Axes>"
      ]
     },
     "metadata": {},
     "output_type": "display_data"
    }
   ],
   "source": [
    "def model(x, params):\n",
    "    return params[0]*x + params[1]\n",
    "\n",
    "def noise(signal):\n",
    "    n = torch.zeros(signal.shape)\n",
    "    torch.nn.init.normal_(n)\n",
    "    return n\n",
    "\n",
    "def mse(p, t):\n",
    "    return (p - t).pow(2).mean()\n",
    "\n",
    "def show_fit(x, p, t):\n",
    "    fig, ax = plt.subplots(1, figsize=(7,7))\n",
    "    ax.plot(x.numpy(), t.numpy(), marker=\"o\", linewidth=0)\n",
    "    ax.plot(x.numpy(), p.numpy())\n",
    "\n",
    "initial_parmas = torch.tensor([1., 0.])\n",
    "target_params = torch.tensor([3.4, -0.8])\n",
    "\n",
    "x = torch.tensor(range(10))\n",
    "data = model(x, target_params) + noise(x)\n",
    "\n",
    "assert mse(model(x, initial_parmas), data) > 100\n",
    "\n",
    "show_fit(x, model(x, initial_parmas), data)"
   ]
  },
  {
   "cell_type": "code",
   "execution_count": 21,
   "metadata": {},
   "outputs": [
    {
     "name": "stdout",
     "output_type": "stream",
     "text": [
      "Loss at epoch [0]: [156.83314514160156]\n",
      "Loss at epoch [1]: [28.10074806213379]\n",
      "Loss at epoch [2]: [5.857351779937744]\n",
      "Loss at epoch [3]: [2.0113203525543213]\n",
      "Loss at epoch [4]: [1.3437001705169678]\n",
      "Loss at epoch [5]: [1.2252275943756104]\n",
      "Loss at epoch [6]: [1.2016626596450806]\n",
      "Loss at epoch [7]: [1.1945286989212036]\n",
      "Loss at epoch [8]: [1.19026780128479]\n",
      "Loss at epoch [9]: [1.1865365505218506]\n"
     ]
    },
    {
     "data": {
      "image/png": "[encoded data removed]",
      "text/plain": [
       "<Figure size 504x504 with 1 Axes>"
      ]
     },
     "metadata": {},
     "output_type": "display_data"
    }
   ],
   "source": [
    "lr = 0.01\n",
    "n_epochs = 10\n",
    "initial_parmas = torch.tensor([1., 0.], requires_grad=True)\n",
    "\n",
    "for epoch in range(n_epochs):\n",
    "    # calculate loss\n",
    "    loss = mse(model(x, initial_parmas), data)\n",
    "    print(f\"Loss at epoch [{epoch}]: [{loss.item()}]\")\n",
    "    \n",
    "    # propagate error\n",
    "    loss.backward()\n",
    "    \n",
    "    # update weights\n",
    "    with torch.no_grad():\n",
    "        initial_parmas -= lr * initial_parmas.grad.data\n",
    "        initial_parmas.grad.data.zero_()\n",
    "    \n",
    "with torch.no_grad():\n",
    "    show_fit(x, model(x, initial_parmas), data)"
   ]
  },
  {
   "cell_type": "code",
   "execution_count": null,
   "metadata": {},
   "outputs": [],
   "source": []
  }
 ],
 "metadata": {
  "kernelspec": {
   "display_name": "Python 3",
   "language": "python",
   "name": "python3"
  },
  "language_info": {
   "codemirror_mode": {
    "name": "ipython",
    "version": 3
   },
   "file_extension": ".py",
   "mimetype": "text/x-python",
   "name": "python",
   "nbconvert_exporter": "python",
   "pygments_lexer": "ipython3",
   "version": "3.7.7"
  }
 },
 "nbformat": 4,
 "nbformat_minor": 4
}
