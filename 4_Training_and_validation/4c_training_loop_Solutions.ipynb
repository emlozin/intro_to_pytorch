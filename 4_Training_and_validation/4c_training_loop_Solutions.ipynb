{
 "cells": [
  {
   "cell_type": "markdown",
   "metadata": {},
   "source": [
    "# 4c Improving the training loop\n"
   ]
  },
  {
   "cell_type": "code",
   "execution_count": null,
   "metadata": {},
   "outputs": [],
   "source": [
    "network = nn.Sequential(collections.OrderedDict([\n",
    "            (\"hidden\", nn.Linear(28*28,256)),\n",
    "            (\"sigmoid\", nn.Sigmoid()),\n",
    "            (\"output\", nn.Linear(256,10)),\n",
    "            (\"softmax\", nn.Softmax(dim=1))\n",
    "          ]))"
   ]
  },
  {
   "cell_type": "code",
   "execution_count": null,
   "metadata": {},
   "outputs": [],
   "source": [
    "class MnistDataSet:\n",
    "    def __init__(self, train=True):\n",
    "        subset = \"training\" if train else \"test\"\n",
    "        self.x, self.y = torch.load(data.DATA_PATH / f\"MNIST/processed/{subset}.pt\")\n",
    "    \n",
    "    def __getitem__(self, key) -> Tuple[torch.Tensor, torch.Tensor]:\n",
    "        return self.x[key], self.y[key]\n",
    "    \n",
    "    def __len__(self):\n",
    "        return len(self.x)\n",
    "    \n",
    "class DigitFlipper:\n",
    "    def __init__(self, digits_to_flip: List[int], prob=0.5):\n",
    "        self.digits_to_flip, self.prob = digits_to_flip, prob\n",
    "        \n",
    "    def __call__(self, x, y):\n",
    "        for i, digit in enumerate(y.numpy()):\n",
    "            if digit in self.digits_to_flip and random.random() <= self.prob:\n",
    "                x[i] = x[i].flip(-1)\n",
    "        return x, y\n",
    "    \n",
    "class MnistDataLoader:\n",
    "    def __init__(self, dataset, batch_size, shuffle, transform=None):\n",
    "        self.dataset, self.batch_size, self.shuffle, self.transform = dataset, batch_size, shuffle, transform\n",
    "    \n",
    "    def __iter__(self):\n",
    "        self.idx = list(range(len(self.dataset)))\n",
    "        if self.shuffle:\n",
    "            random.shuffle(self.idx)\n",
    "        return self\n",
    "    \n",
    "    def __next__(self):\n",
    "        if self.idx:\n",
    "            batch, self.idx = self.idx[:self.batch_size], self.idx[self.batch_size:]\n",
    "            x, y = self.dataset[batch]\n",
    "            if self.transform:\n",
    "                return self.transform(x, y)\n",
    "            return x, y\n",
    "        \n",
    "        raise StopIteration()\n",
    "\n",
    "def cross_entropy(target, prediction):\n",
    "    return - target[:, prediction.argmax()].log().mean()\n",
    "\n",
    "n_epochs = 10\n",
    "train_dl = MnistDataLoader(MnistDataSet(train=True), 1024, True)\n",
    "test_dl = MnistDataLoader(MnistDataSet(train=False), 1024, False)\n",
    "\n",
    "for epoch in range(n_epochs):\n",
    "    print(f\"Epoch #{epoch+1}\")\n",
    "    \n",
    "    for x, y in train_dl:\n",
    "        "
   ]
  }
 ],
 "metadata": {
  "kernelspec": {
   "display_name": "intro_to_pytorch",
   "language": "python",
   "name": "intro_to_pytorch"
  },
  "language_info": {
   "codemirror_mode": {
    "name": "ipython",
    "version": 3
   },
   "file_extension": ".py",
   "mimetype": "text/x-python",
   "name": "python",
   "nbconvert_exporter": "python",
   "pygments_lexer": "ipython3",
   "version": "3.7.9"
  }
 },
 "nbformat": 4,
 "nbformat_minor": 4
}
